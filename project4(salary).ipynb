{
 "cells": [
  {
   "cell_type": "code",
   "execution_count": 135,
   "metadata": {},
   "outputs": [],
   "source": [
    "import numpy as np\n",
    "import pandas as pd\n",
    "import sklearn\n",
    "import seaborn as sns\n",
    "import matplotlib.pyplot as plt\n",
    "from sklearn.linear_model import LinearRegression\n",
    "from sklearn.metrics import mean_squared_error,mean_absolute_error\n",
    "from sklearn.model_selection import train_test_split"
   ]
  },
  {
   "cell_type": "code",
   "execution_count": 136,
   "metadata": {},
   "outputs": [
    {
     "data": {
      "text/html": [
       "<div>\n",
       "<style scoped>\n",
       "    .dataframe tbody tr th:only-of-type {\n",
       "        vertical-align: middle;\n",
       "    }\n",
       "\n",
       "    .dataframe tbody tr th {\n",
       "        vertical-align: top;\n",
       "    }\n",
       "\n",
       "    .dataframe thead th {\n",
       "        text-align: right;\n",
       "    }\n",
       "</style>\n",
       "<table border=\"1\" class=\"dataframe\">\n",
       "  <thead>\n",
       "    <tr style=\"text-align: right;\">\n",
       "      <th></th>\n",
       "      <th>NAME</th>\n",
       "      <th>JOB TITLE</th>\n",
       "      <th>DEPARTMENT</th>\n",
       "      <th>EMPLOYEE ANNUAL SALARY</th>\n",
       "      <th>ESTIMATED ANNUAL SALARY MINUS FURLOUGHS</th>\n",
       "    </tr>\n",
       "  </thead>\n",
       "  <tbody>\n",
       "    <tr>\n",
       "      <th>0</th>\n",
       "      <td>AARON,  ELVIA J</td>\n",
       "      <td>WATER RATE TAKER</td>\n",
       "      <td>WATER MGMNT</td>\n",
       "      <td>$81000.00</td>\n",
       "      <td>$73862.00</td>\n",
       "    </tr>\n",
       "    <tr>\n",
       "      <th>1</th>\n",
       "      <td>AARON,  JEFFERY M</td>\n",
       "      <td>POLICE OFFICER</td>\n",
       "      <td>POLICE</td>\n",
       "      <td>$74628.00</td>\n",
       "      <td>$74628.00</td>\n",
       "    </tr>\n",
       "    <tr>\n",
       "      <th>2</th>\n",
       "      <td>AARON,  KIMBERLEI R</td>\n",
       "      <td>CHIEF CONTRACT EXPEDITER</td>\n",
       "      <td>FLEET MANAGEMNT</td>\n",
       "      <td>$77280.00</td>\n",
       "      <td>$70174.00</td>\n",
       "    </tr>\n",
       "    <tr>\n",
       "      <th>3</th>\n",
       "      <td>ABAD JR,  VICENTE M</td>\n",
       "      <td>CIVIL ENGINEER IV</td>\n",
       "      <td>WATER MGMNT</td>\n",
       "      <td>$96276.00</td>\n",
       "      <td>$96276.00</td>\n",
       "    </tr>\n",
       "    <tr>\n",
       "      <th>4</th>\n",
       "      <td>ABBATACOLA,  ROBERT J</td>\n",
       "      <td>ELECTRICAL MECHANIC</td>\n",
       "      <td>WATER MGMNT</td>\n",
       "      <td>$84032.00</td>\n",
       "      <td>$76627.00</td>\n",
       "    </tr>\n",
       "  </tbody>\n",
       "</table>\n",
       "</div>"
      ],
      "text/plain": [
       "                    NAME                 JOB TITLE       DEPARTMENT  \\\n",
       "0        AARON,  ELVIA J          WATER RATE TAKER      WATER MGMNT   \n",
       "1      AARON,  JEFFERY M            POLICE OFFICER           POLICE   \n",
       "2    AARON,  KIMBERLEI R  CHIEF CONTRACT EXPEDITER  FLEET MANAGEMNT   \n",
       "3    ABAD JR,  VICENTE M         CIVIL ENGINEER IV      WATER MGMNT   \n",
       "4  ABBATACOLA,  ROBERT J       ELECTRICAL MECHANIC      WATER MGMNT   \n",
       "\n",
       "  EMPLOYEE ANNUAL SALARY ESTIMATED ANNUAL SALARY MINUS FURLOUGHS  \n",
       "0              $81000.00                               $73862.00  \n",
       "1              $74628.00                               $74628.00  \n",
       "2              $77280.00                               $70174.00  \n",
       "3              $96276.00                               $96276.00  \n",
       "4              $84032.00                               $76627.00  "
      ]
     },
     "execution_count": 136,
     "metadata": {},
     "output_type": "execute_result"
    }
   ],
   "source": [
    "df=pd.read_csv('employeesalary.csv')\n",
    "df.head()"
   ]
  },
  {
   "cell_type": "code",
   "execution_count": 137,
   "metadata": {},
   "outputs": [
    {
     "data": {
      "text/plain": [
       "(34218, 5)"
      ]
     },
     "execution_count": 137,
     "metadata": {},
     "output_type": "execute_result"
    }
   ],
   "source": [
    "df.shape"
   ]
  },
  {
   "cell_type": "code",
   "execution_count": 138,
   "metadata": {},
   "outputs": [
    {
     "data": {
      "text/plain": [
       "NAME                                       object\n",
       "JOB TITLE                                  object\n",
       "DEPARTMENT                                 object\n",
       "EMPLOYEE ANNUAL SALARY                     object\n",
       "ESTIMATED ANNUAL SALARY MINUS FURLOUGHS    object\n",
       "dtype: object"
      ]
     },
     "execution_count": 138,
     "metadata": {},
     "output_type": "execute_result"
    }
   ],
   "source": [
    "df.dtypes"
   ]
  },
  {
   "cell_type": "code",
   "execution_count": 139,
   "metadata": {},
   "outputs": [
    {
     "data": {
      "text/plain": [
       "Index(['NAME', 'JOB TITLE', 'DEPARTMENT', 'EMPLOYEE ANNUAL SALARY',\n",
       "       'ESTIMATED ANNUAL SALARY MINUS FURLOUGHS'],\n",
       "      dtype='object')"
      ]
     },
     "execution_count": 139,
     "metadata": {},
     "output_type": "execute_result"
    }
   ],
   "source": [
    "df.columns"
   ]
  },
  {
   "cell_type": "code",
   "execution_count": 140,
   "metadata": {},
   "outputs": [],
   "source": [
    "#we know that we have to estimate annual salary means \n",
    "#taget variable=df['ESTIMATED ANNUAL SALARY MINUS FURLOUGHS']"
   ]
  },
  {
   "cell_type": "code",
   "execution_count": 141,
   "metadata": {},
   "outputs": [],
   "source": [
    "#sns.heatmap(df.isnull(),annot=True)"
   ]
  },
  {
   "cell_type": "code",
   "execution_count": 142,
   "metadata": {},
   "outputs": [
    {
     "data": {
      "text/plain": [
       "NAME                                       0\n",
       "JOB TITLE                                  0\n",
       "DEPARTMENT                                 0\n",
       "EMPLOYEE ANNUAL SALARY                     0\n",
       "ESTIMATED ANNUAL SALARY MINUS FURLOUGHS    0\n",
       "dtype: int64"
      ]
     },
     "execution_count": 142,
     "metadata": {},
     "output_type": "execute_result"
    }
   ],
   "source": [
    "#There's no missing data\n",
    "#still\n",
    "df.isnull().sum()"
   ]
  },
  {
   "cell_type": "code",
   "execution_count": 143,
   "metadata": {},
   "outputs": [
    {
     "data": {
      "text/html": [
       "<div>\n",
       "<style scoped>\n",
       "    .dataframe tbody tr th:only-of-type {\n",
       "        vertical-align: middle;\n",
       "    }\n",
       "\n",
       "    .dataframe tbody tr th {\n",
       "        vertical-align: top;\n",
       "    }\n",
       "\n",
       "    .dataframe thead th {\n",
       "        text-align: right;\n",
       "    }\n",
       "</style>\n",
       "<table border=\"1\" class=\"dataframe\">\n",
       "  <thead>\n",
       "    <tr style=\"text-align: right;\">\n",
       "      <th></th>\n",
       "      <th>NAME</th>\n",
       "      <th>JOB TITLE</th>\n",
       "      <th>DEPARTMENT</th>\n",
       "      <th>EMPLOYEE ANNUAL SALARY</th>\n",
       "      <th>ESTIMATED ANNUAL SALARY MINUS FURLOUGHS</th>\n",
       "    </tr>\n",
       "  </thead>\n",
       "  <tbody>\n",
       "    <tr>\n",
       "      <th>count</th>\n",
       "      <td>34218</td>\n",
       "      <td>34218</td>\n",
       "      <td>34218</td>\n",
       "      <td>34218</td>\n",
       "      <td>34218</td>\n",
       "    </tr>\n",
       "    <tr>\n",
       "      <th>unique</th>\n",
       "      <td>33908</td>\n",
       "      <td>1124</td>\n",
       "      <td>39</td>\n",
       "      <td>1028</td>\n",
       "      <td>1088</td>\n",
       "    </tr>\n",
       "    <tr>\n",
       "      <th>top</th>\n",
       "      <td>HERNANDEZ,  JUAN C</td>\n",
       "      <td>POLICE OFFICER</td>\n",
       "      <td>POLICE</td>\n",
       "      <td>$77238.00</td>\n",
       "      <td>$77238.00</td>\n",
       "    </tr>\n",
       "    <tr>\n",
       "      <th>freq</th>\n",
       "      <td>4</td>\n",
       "      <td>10918</td>\n",
       "      <td>14147</td>\n",
       "      <td>3028</td>\n",
       "      <td>3028</td>\n",
       "    </tr>\n",
       "  </tbody>\n",
       "</table>\n",
       "</div>"
      ],
      "text/plain": [
       "                      NAME       JOB TITLE DEPARTMENT EMPLOYEE ANNUAL SALARY  \\\n",
       "count                34218           34218      34218                  34218   \n",
       "unique               33908            1124         39                   1028   \n",
       "top     HERNANDEZ,  JUAN C  POLICE OFFICER     POLICE              $77238.00   \n",
       "freq                     4           10918      14147                   3028   \n",
       "\n",
       "       ESTIMATED ANNUAL SALARY MINUS FURLOUGHS  \n",
       "count                                    34218  \n",
       "unique                                    1088  \n",
       "top                                  $77238.00  \n",
       "freq                                      3028  "
      ]
     },
     "execution_count": 143,
     "metadata": {},
     "output_type": "execute_result"
    }
   ],
   "source": [
    "df.describe()"
   ]
  },
  {
   "cell_type": "code",
   "execution_count": 144,
   "metadata": {},
   "outputs": [],
   "source": [
    "df.drop(columns=[\"NAME\"],axis=1,inplace=True)"
   ]
  },
  {
   "cell_type": "code",
   "execution_count": 145,
   "metadata": {},
   "outputs": [
    {
     "data": {
      "text/html": [
       "<div>\n",
       "<style scoped>\n",
       "    .dataframe tbody tr th:only-of-type {\n",
       "        vertical-align: middle;\n",
       "    }\n",
       "\n",
       "    .dataframe tbody tr th {\n",
       "        vertical-align: top;\n",
       "    }\n",
       "\n",
       "    .dataframe thead th {\n",
       "        text-align: right;\n",
       "    }\n",
       "</style>\n",
       "<table border=\"1\" class=\"dataframe\">\n",
       "  <thead>\n",
       "    <tr style=\"text-align: right;\">\n",
       "      <th></th>\n",
       "      <th>JOB TITLE</th>\n",
       "      <th>DEPARTMENT</th>\n",
       "      <th>EMPLOYEE ANNUAL SALARY</th>\n",
       "      <th>ESTIMATED ANNUAL SALARY MINUS FURLOUGHS</th>\n",
       "    </tr>\n",
       "  </thead>\n",
       "  <tbody>\n",
       "    <tr>\n",
       "      <th>0</th>\n",
       "      <td>WATER RATE TAKER</td>\n",
       "      <td>WATER MGMNT</td>\n",
       "      <td>$81000.00</td>\n",
       "      <td>$73862.00</td>\n",
       "    </tr>\n",
       "    <tr>\n",
       "      <th>1</th>\n",
       "      <td>POLICE OFFICER</td>\n",
       "      <td>POLICE</td>\n",
       "      <td>$74628.00</td>\n",
       "      <td>$74628.00</td>\n",
       "    </tr>\n",
       "    <tr>\n",
       "      <th>2</th>\n",
       "      <td>CHIEF CONTRACT EXPEDITER</td>\n",
       "      <td>FLEET MANAGEMNT</td>\n",
       "      <td>$77280.00</td>\n",
       "      <td>$70174.00</td>\n",
       "    </tr>\n",
       "    <tr>\n",
       "      <th>3</th>\n",
       "      <td>CIVIL ENGINEER IV</td>\n",
       "      <td>WATER MGMNT</td>\n",
       "      <td>$96276.00</td>\n",
       "      <td>$96276.00</td>\n",
       "    </tr>\n",
       "    <tr>\n",
       "      <th>4</th>\n",
       "      <td>ELECTRICAL MECHANIC</td>\n",
       "      <td>WATER MGMNT</td>\n",
       "      <td>$84032.00</td>\n",
       "      <td>$76627.00</td>\n",
       "    </tr>\n",
       "    <tr>\n",
       "      <th>...</th>\n",
       "      <td>...</td>\n",
       "      <td>...</td>\n",
       "      <td>...</td>\n",
       "      <td>...</td>\n",
       "    </tr>\n",
       "    <tr>\n",
       "      <th>34213</th>\n",
       "      <td>POLICE OFFICER</td>\n",
       "      <td>POLICE</td>\n",
       "      <td>$74628.00</td>\n",
       "      <td>$74628.00</td>\n",
       "    </tr>\n",
       "    <tr>\n",
       "      <th>34214</th>\n",
       "      <td>CONSTRUCTION LABORER</td>\n",
       "      <td>WATER MGMNT</td>\n",
       "      <td>$73216.00</td>\n",
       "      <td>$66764.00</td>\n",
       "    </tr>\n",
       "    <tr>\n",
       "      <th>34215</th>\n",
       "      <td>POLICE OFFICER</td>\n",
       "      <td>POLICE</td>\n",
       "      <td>$77238.00</td>\n",
       "      <td>$77238.00</td>\n",
       "    </tr>\n",
       "    <tr>\n",
       "      <th>34216</th>\n",
       "      <td>LIEUTENANT</td>\n",
       "      <td>FIRE</td>\n",
       "      <td>$101958.00</td>\n",
       "      <td>$101958.00</td>\n",
       "    </tr>\n",
       "    <tr>\n",
       "      <th>34217</th>\n",
       "      <td>CHIEF DATA BASE ANALYST</td>\n",
       "      <td>DoIT</td>\n",
       "      <td>$110352.00</td>\n",
       "      <td>$100205.00</td>\n",
       "    </tr>\n",
       "  </tbody>\n",
       "</table>\n",
       "<p>34218 rows × 4 columns</p>\n",
       "</div>"
      ],
      "text/plain": [
       "                      JOB TITLE       DEPARTMENT EMPLOYEE ANNUAL SALARY  \\\n",
       "0              WATER RATE TAKER      WATER MGMNT              $81000.00   \n",
       "1                POLICE OFFICER           POLICE              $74628.00   \n",
       "2      CHIEF CONTRACT EXPEDITER  FLEET MANAGEMNT              $77280.00   \n",
       "3             CIVIL ENGINEER IV      WATER MGMNT              $96276.00   \n",
       "4           ELECTRICAL MECHANIC      WATER MGMNT              $84032.00   \n",
       "...                         ...              ...                    ...   \n",
       "34213            POLICE OFFICER           POLICE              $74628.00   \n",
       "34214      CONSTRUCTION LABORER      WATER MGMNT              $73216.00   \n",
       "34215            POLICE OFFICER           POLICE              $77238.00   \n",
       "34216                LIEUTENANT             FIRE             $101958.00   \n",
       "34217   CHIEF DATA BASE ANALYST             DoIT             $110352.00   \n",
       "\n",
       "      ESTIMATED ANNUAL SALARY MINUS FURLOUGHS  \n",
       "0                                   $73862.00  \n",
       "1                                   $74628.00  \n",
       "2                                   $70174.00  \n",
       "3                                   $96276.00  \n",
       "4                                   $76627.00  \n",
       "...                                       ...  \n",
       "34213                               $74628.00  \n",
       "34214                               $66764.00  \n",
       "34215                               $77238.00  \n",
       "34216                              $101958.00  \n",
       "34217                              $100205.00  \n",
       "\n",
       "[34218 rows x 4 columns]"
      ]
     },
     "execution_count": 145,
     "metadata": {},
     "output_type": "execute_result"
    }
   ],
   "source": [
    "df"
   ]
  },
  {
   "cell_type": "code",
   "execution_count": 146,
   "metadata": {},
   "outputs": [
    {
     "data": {
      "text/plain": [
       "array(['WATER RATE TAKER', 'POLICE OFFICER', 'CHIEF CONTRACT EXPEDITER',\n",
       "       ..., 'CASE ANALYST - LAW', 'OPERATIONS ANALYST',\n",
       "       'MECHANICAL ENGINEER IV'], dtype=object)"
      ]
     },
     "execution_count": 146,
     "metadata": {},
     "output_type": "execute_result"
    }
   ],
   "source": [
    "df['JOB TITLE'].unique()"
   ]
  },
  {
   "cell_type": "code",
   "execution_count": 147,
   "metadata": {},
   "outputs": [
    {
     "data": {
      "text/plain": [
       "POLICE OFFICER                     10918\n",
       "FIREFIGHTER                         1242\n",
       "FIREFIGHTER-EMT                     1198\n",
       "SERGEANT                            1177\n",
       "MOTOR TRUCK DRIVER                   931\n",
       "                                   ...  \n",
       "HOUSING DEVELOPMENT COORD              1\n",
       "SENIOR POLICY ANALYST                  1\n",
       "COMMISSIONER OF HUMAN RESOURCES        1\n",
       "DIR OF PROJECT DEVELOPMENT             1\n",
       "COMMISSIONER OF HEALTH                 1\n",
       "Name: JOB TITLE, Length: 1124, dtype: int64"
      ]
     },
     "execution_count": 147,
     "metadata": {},
     "output_type": "execute_result"
    }
   ],
   "source": [
    "df['JOB TITLE'].value_counts()"
   ]
  },
  {
   "cell_type": "code",
   "execution_count": 148,
   "metadata": {},
   "outputs": [],
   "source": [
    "df['ESTIMATED ANNUAL SALARY MINUS FURLOUGHS']=df['ESTIMATED ANNUAL SALARY MINUS FURLOUGHS'].str[1:]\n",
    "df['EMPLOYEE ANNUAL SALARY']=df['EMPLOYEE ANNUAL SALARY'].str[1:]"
   ]
  },
  {
   "cell_type": "code",
   "execution_count": 149,
   "metadata": {},
   "outputs": [
    {
     "data": {
      "text/html": [
       "<div>\n",
       "<style scoped>\n",
       "    .dataframe tbody tr th:only-of-type {\n",
       "        vertical-align: middle;\n",
       "    }\n",
       "\n",
       "    .dataframe tbody tr th {\n",
       "        vertical-align: top;\n",
       "    }\n",
       "\n",
       "    .dataframe thead th {\n",
       "        text-align: right;\n",
       "    }\n",
       "</style>\n",
       "<table border=\"1\" class=\"dataframe\">\n",
       "  <thead>\n",
       "    <tr style=\"text-align: right;\">\n",
       "      <th></th>\n",
       "      <th>JOB TITLE</th>\n",
       "      <th>DEPARTMENT</th>\n",
       "      <th>EMPLOYEE ANNUAL SALARY</th>\n",
       "      <th>ESTIMATED ANNUAL SALARY MINUS FURLOUGHS</th>\n",
       "    </tr>\n",
       "  </thead>\n",
       "  <tbody>\n",
       "    <tr>\n",
       "      <th>0</th>\n",
       "      <td>WATER RATE TAKER</td>\n",
       "      <td>WATER MGMNT</td>\n",
       "      <td>81000.00</td>\n",
       "      <td>73862.00</td>\n",
       "    </tr>\n",
       "    <tr>\n",
       "      <th>1</th>\n",
       "      <td>POLICE OFFICER</td>\n",
       "      <td>POLICE</td>\n",
       "      <td>74628.00</td>\n",
       "      <td>74628.00</td>\n",
       "    </tr>\n",
       "    <tr>\n",
       "      <th>2</th>\n",
       "      <td>CHIEF CONTRACT EXPEDITER</td>\n",
       "      <td>FLEET MANAGEMNT</td>\n",
       "      <td>77280.00</td>\n",
       "      <td>70174.00</td>\n",
       "    </tr>\n",
       "    <tr>\n",
       "      <th>3</th>\n",
       "      <td>CIVIL ENGINEER IV</td>\n",
       "      <td>WATER MGMNT</td>\n",
       "      <td>96276.00</td>\n",
       "      <td>96276.00</td>\n",
       "    </tr>\n",
       "    <tr>\n",
       "      <th>4</th>\n",
       "      <td>ELECTRICAL MECHANIC</td>\n",
       "      <td>WATER MGMNT</td>\n",
       "      <td>84032.00</td>\n",
       "      <td>76627.00</td>\n",
       "    </tr>\n",
       "    <tr>\n",
       "      <th>...</th>\n",
       "      <td>...</td>\n",
       "      <td>...</td>\n",
       "      <td>...</td>\n",
       "      <td>...</td>\n",
       "    </tr>\n",
       "    <tr>\n",
       "      <th>34213</th>\n",
       "      <td>POLICE OFFICER</td>\n",
       "      <td>POLICE</td>\n",
       "      <td>74628.00</td>\n",
       "      <td>74628.00</td>\n",
       "    </tr>\n",
       "    <tr>\n",
       "      <th>34214</th>\n",
       "      <td>CONSTRUCTION LABORER</td>\n",
       "      <td>WATER MGMNT</td>\n",
       "      <td>73216.00</td>\n",
       "      <td>66764.00</td>\n",
       "    </tr>\n",
       "    <tr>\n",
       "      <th>34215</th>\n",
       "      <td>POLICE OFFICER</td>\n",
       "      <td>POLICE</td>\n",
       "      <td>77238.00</td>\n",
       "      <td>77238.00</td>\n",
       "    </tr>\n",
       "    <tr>\n",
       "      <th>34216</th>\n",
       "      <td>LIEUTENANT</td>\n",
       "      <td>FIRE</td>\n",
       "      <td>101958.00</td>\n",
       "      <td>101958.00</td>\n",
       "    </tr>\n",
       "    <tr>\n",
       "      <th>34217</th>\n",
       "      <td>CHIEF DATA BASE ANALYST</td>\n",
       "      <td>DoIT</td>\n",
       "      <td>110352.00</td>\n",
       "      <td>100205.00</td>\n",
       "    </tr>\n",
       "  </tbody>\n",
       "</table>\n",
       "<p>34218 rows × 4 columns</p>\n",
       "</div>"
      ],
      "text/plain": [
       "                      JOB TITLE       DEPARTMENT EMPLOYEE ANNUAL SALARY  \\\n",
       "0              WATER RATE TAKER      WATER MGMNT               81000.00   \n",
       "1                POLICE OFFICER           POLICE               74628.00   \n",
       "2      CHIEF CONTRACT EXPEDITER  FLEET MANAGEMNT               77280.00   \n",
       "3             CIVIL ENGINEER IV      WATER MGMNT               96276.00   \n",
       "4           ELECTRICAL MECHANIC      WATER MGMNT               84032.00   \n",
       "...                         ...              ...                    ...   \n",
       "34213            POLICE OFFICER           POLICE               74628.00   \n",
       "34214      CONSTRUCTION LABORER      WATER MGMNT               73216.00   \n",
       "34215            POLICE OFFICER           POLICE               77238.00   \n",
       "34216                LIEUTENANT             FIRE              101958.00   \n",
       "34217   CHIEF DATA BASE ANALYST             DoIT              110352.00   \n",
       "\n",
       "      ESTIMATED ANNUAL SALARY MINUS FURLOUGHS  \n",
       "0                                    73862.00  \n",
       "1                                    74628.00  \n",
       "2                                    70174.00  \n",
       "3                                    96276.00  \n",
       "4                                    76627.00  \n",
       "...                                       ...  \n",
       "34213                                74628.00  \n",
       "34214                                66764.00  \n",
       "34215                                77238.00  \n",
       "34216                               101958.00  \n",
       "34217                               100205.00  \n",
       "\n",
       "[34218 rows x 4 columns]"
      ]
     },
     "execution_count": 149,
     "metadata": {},
     "output_type": "execute_result"
    }
   ],
   "source": [
    "df"
   ]
  },
  {
   "cell_type": "code",
   "execution_count": 150,
   "metadata": {},
   "outputs": [],
   "source": [
    "df['ESTIMATED ANNUAL SALARY MINUS FURLOUGHS']=df['ESTIMATED ANNUAL SALARY MINUS FURLOUGHS'].str[:-3]\n",
    "df['EMPLOYEE ANNUAL SALARY']=df['EMPLOYEE ANNUAL SALARY'].str[:-3]\n"
   ]
  },
  {
   "cell_type": "code",
   "execution_count": 151,
   "metadata": {},
   "outputs": [
    {
     "data": {
      "text/html": [
       "<div>\n",
       "<style scoped>\n",
       "    .dataframe tbody tr th:only-of-type {\n",
       "        vertical-align: middle;\n",
       "    }\n",
       "\n",
       "    .dataframe tbody tr th {\n",
       "        vertical-align: top;\n",
       "    }\n",
       "\n",
       "    .dataframe thead th {\n",
       "        text-align: right;\n",
       "    }\n",
       "</style>\n",
       "<table border=\"1\" class=\"dataframe\">\n",
       "  <thead>\n",
       "    <tr style=\"text-align: right;\">\n",
       "      <th></th>\n",
       "      <th>JOB TITLE</th>\n",
       "      <th>DEPARTMENT</th>\n",
       "      <th>EMPLOYEE ANNUAL SALARY</th>\n",
       "      <th>ESTIMATED ANNUAL SALARY MINUS FURLOUGHS</th>\n",
       "    </tr>\n",
       "  </thead>\n",
       "  <tbody>\n",
       "    <tr>\n",
       "      <th>0</th>\n",
       "      <td>WATER RATE TAKER</td>\n",
       "      <td>WATER MGMNT</td>\n",
       "      <td>81000</td>\n",
       "      <td>73862</td>\n",
       "    </tr>\n",
       "    <tr>\n",
       "      <th>1</th>\n",
       "      <td>POLICE OFFICER</td>\n",
       "      <td>POLICE</td>\n",
       "      <td>74628</td>\n",
       "      <td>74628</td>\n",
       "    </tr>\n",
       "    <tr>\n",
       "      <th>2</th>\n",
       "      <td>CHIEF CONTRACT EXPEDITER</td>\n",
       "      <td>FLEET MANAGEMNT</td>\n",
       "      <td>77280</td>\n",
       "      <td>70174</td>\n",
       "    </tr>\n",
       "    <tr>\n",
       "      <th>3</th>\n",
       "      <td>CIVIL ENGINEER IV</td>\n",
       "      <td>WATER MGMNT</td>\n",
       "      <td>96276</td>\n",
       "      <td>96276</td>\n",
       "    </tr>\n",
       "    <tr>\n",
       "      <th>4</th>\n",
       "      <td>ELECTRICAL MECHANIC</td>\n",
       "      <td>WATER MGMNT</td>\n",
       "      <td>84032</td>\n",
       "      <td>76627</td>\n",
       "    </tr>\n",
       "    <tr>\n",
       "      <th>...</th>\n",
       "      <td>...</td>\n",
       "      <td>...</td>\n",
       "      <td>...</td>\n",
       "      <td>...</td>\n",
       "    </tr>\n",
       "    <tr>\n",
       "      <th>34213</th>\n",
       "      <td>POLICE OFFICER</td>\n",
       "      <td>POLICE</td>\n",
       "      <td>74628</td>\n",
       "      <td>74628</td>\n",
       "    </tr>\n",
       "    <tr>\n",
       "      <th>34214</th>\n",
       "      <td>CONSTRUCTION LABORER</td>\n",
       "      <td>WATER MGMNT</td>\n",
       "      <td>73216</td>\n",
       "      <td>66764</td>\n",
       "    </tr>\n",
       "    <tr>\n",
       "      <th>34215</th>\n",
       "      <td>POLICE OFFICER</td>\n",
       "      <td>POLICE</td>\n",
       "      <td>77238</td>\n",
       "      <td>77238</td>\n",
       "    </tr>\n",
       "    <tr>\n",
       "      <th>34216</th>\n",
       "      <td>LIEUTENANT</td>\n",
       "      <td>FIRE</td>\n",
       "      <td>101958</td>\n",
       "      <td>101958</td>\n",
       "    </tr>\n",
       "    <tr>\n",
       "      <th>34217</th>\n",
       "      <td>CHIEF DATA BASE ANALYST</td>\n",
       "      <td>DoIT</td>\n",
       "      <td>110352</td>\n",
       "      <td>100205</td>\n",
       "    </tr>\n",
       "  </tbody>\n",
       "</table>\n",
       "<p>34218 rows × 4 columns</p>\n",
       "</div>"
      ],
      "text/plain": [
       "                      JOB TITLE       DEPARTMENT EMPLOYEE ANNUAL SALARY  \\\n",
       "0              WATER RATE TAKER      WATER MGMNT                  81000   \n",
       "1                POLICE OFFICER           POLICE                  74628   \n",
       "2      CHIEF CONTRACT EXPEDITER  FLEET MANAGEMNT                  77280   \n",
       "3             CIVIL ENGINEER IV      WATER MGMNT                  96276   \n",
       "4           ELECTRICAL MECHANIC      WATER MGMNT                  84032   \n",
       "...                         ...              ...                    ...   \n",
       "34213            POLICE OFFICER           POLICE                  74628   \n",
       "34214      CONSTRUCTION LABORER      WATER MGMNT                  73216   \n",
       "34215            POLICE OFFICER           POLICE                  77238   \n",
       "34216                LIEUTENANT             FIRE                 101958   \n",
       "34217   CHIEF DATA BASE ANALYST             DoIT                 110352   \n",
       "\n",
       "      ESTIMATED ANNUAL SALARY MINUS FURLOUGHS  \n",
       "0                                       73862  \n",
       "1                                       74628  \n",
       "2                                       70174  \n",
       "3                                       96276  \n",
       "4                                       76627  \n",
       "...                                       ...  \n",
       "34213                                   74628  \n",
       "34214                                   66764  \n",
       "34215                                   77238  \n",
       "34216                                  101958  \n",
       "34217                                  100205  \n",
       "\n",
       "[34218 rows x 4 columns]"
      ]
     },
     "execution_count": 151,
     "metadata": {},
     "output_type": "execute_result"
    }
   ],
   "source": [
    "df"
   ]
  },
  {
   "cell_type": "code",
   "execution_count": 152,
   "metadata": {},
   "outputs": [],
   "source": [
    "import sklearn\n",
    "from sklearn.preprocessing import LabelEncoder\n",
    "from sklearn import preprocessing \n",
    "label_encoder = preprocessing.LabelEncoder() \n",
    "df['JOB TITLE']= label_encoder.fit_transform(df['JOB TITLE']) \n",
    "df['DEPARTMENT']= label_encoder.fit_transform(df['DEPARTMENT'])"
   ]
  },
  {
   "cell_type": "code",
   "execution_count": 153,
   "metadata": {},
   "outputs": [
    {
     "data": {
      "text/html": [
       "<div>\n",
       "<style scoped>\n",
       "    .dataframe tbody tr th:only-of-type {\n",
       "        vertical-align: middle;\n",
       "    }\n",
       "\n",
       "    .dataframe tbody tr th {\n",
       "        vertical-align: top;\n",
       "    }\n",
       "\n",
       "    .dataframe thead th {\n",
       "        text-align: right;\n",
       "    }\n",
       "</style>\n",
       "<table border=\"1\" class=\"dataframe\">\n",
       "  <thead>\n",
       "    <tr style=\"text-align: right;\">\n",
       "      <th></th>\n",
       "      <th>JOB TITLE</th>\n",
       "      <th>DEPARTMENT</th>\n",
       "      <th>EMPLOYEE ANNUAL SALARY</th>\n",
       "      <th>ESTIMATED ANNUAL SALARY MINUS FURLOUGHS</th>\n",
       "    </tr>\n",
       "  </thead>\n",
       "  <tbody>\n",
       "    <tr>\n",
       "      <th>0</th>\n",
       "      <td>1115</td>\n",
       "      <td>38</td>\n",
       "      <td>81000</td>\n",
       "      <td>73862</td>\n",
       "    </tr>\n",
       "    <tr>\n",
       "      <th>1</th>\n",
       "      <td>783</td>\n",
       "      <td>30</td>\n",
       "      <td>74628</td>\n",
       "      <td>74628</td>\n",
       "    </tr>\n",
       "    <tr>\n",
       "      <th>2</th>\n",
       "      <td>193</td>\n",
       "      <td>19</td>\n",
       "      <td>77280</td>\n",
       "      <td>70174</td>\n",
       "    </tr>\n",
       "    <tr>\n",
       "      <th>3</th>\n",
       "      <td>240</td>\n",
       "      <td>38</td>\n",
       "      <td>96276</td>\n",
       "      <td>96276</td>\n",
       "    </tr>\n",
       "    <tr>\n",
       "      <th>4</th>\n",
       "      <td>451</td>\n",
       "      <td>38</td>\n",
       "      <td>84032</td>\n",
       "      <td>76627</td>\n",
       "    </tr>\n",
       "    <tr>\n",
       "      <th>...</th>\n",
       "      <td>...</td>\n",
       "      <td>...</td>\n",
       "      <td>...</td>\n",
       "      <td>...</td>\n",
       "    </tr>\n",
       "    <tr>\n",
       "      <th>34213</th>\n",
       "      <td>783</td>\n",
       "      <td>30</td>\n",
       "      <td>74628</td>\n",
       "      <td>74628</td>\n",
       "    </tr>\n",
       "    <tr>\n",
       "      <th>34214</th>\n",
       "      <td>284</td>\n",
       "      <td>38</td>\n",
       "      <td>73216</td>\n",
       "      <td>66764</td>\n",
       "    </tr>\n",
       "    <tr>\n",
       "      <th>34215</th>\n",
       "      <td>783</td>\n",
       "      <td>30</td>\n",
       "      <td>77238</td>\n",
       "      <td>77238</td>\n",
       "    </tr>\n",
       "    <tr>\n",
       "      <th>34216</th>\n",
       "      <td>673</td>\n",
       "      <td>18</td>\n",
       "      <td>101958</td>\n",
       "      <td>101958</td>\n",
       "    </tr>\n",
       "    <tr>\n",
       "      <th>34217</th>\n",
       "      <td>194</td>\n",
       "      <td>14</td>\n",
       "      <td>110352</td>\n",
       "      <td>100205</td>\n",
       "    </tr>\n",
       "  </tbody>\n",
       "</table>\n",
       "<p>34218 rows × 4 columns</p>\n",
       "</div>"
      ],
      "text/plain": [
       "       JOB TITLE  DEPARTMENT EMPLOYEE ANNUAL SALARY  \\\n",
       "0           1115          38                  81000   \n",
       "1            783          30                  74628   \n",
       "2            193          19                  77280   \n",
       "3            240          38                  96276   \n",
       "4            451          38                  84032   \n",
       "...          ...         ...                    ...   \n",
       "34213        783          30                  74628   \n",
       "34214        284          38                  73216   \n",
       "34215        783          30                  77238   \n",
       "34216        673          18                 101958   \n",
       "34217        194          14                 110352   \n",
       "\n",
       "      ESTIMATED ANNUAL SALARY MINUS FURLOUGHS  \n",
       "0                                       73862  \n",
       "1                                       74628  \n",
       "2                                       70174  \n",
       "3                                       96276  \n",
       "4                                       76627  \n",
       "...                                       ...  \n",
       "34213                                   74628  \n",
       "34214                                   66764  \n",
       "34215                                   77238  \n",
       "34216                                  101958  \n",
       "34217                                  100205  \n",
       "\n",
       "[34218 rows x 4 columns]"
      ]
     },
     "execution_count": 153,
     "metadata": {},
     "output_type": "execute_result"
    }
   ],
   "source": [
    "df"
   ]
  },
  {
   "cell_type": "code",
   "execution_count": null,
   "metadata": {},
   "outputs": [],
   "source": []
  },
  {
   "cell_type": "markdown",
   "metadata": {},
   "source": [
    "Correlation"
   ]
  },
  {
   "cell_type": "code",
   "execution_count": 154,
   "metadata": {},
   "outputs": [
    {
     "data": {
      "text/html": [
       "<div>\n",
       "<style scoped>\n",
       "    .dataframe tbody tr th:only-of-type {\n",
       "        vertical-align: middle;\n",
       "    }\n",
       "\n",
       "    .dataframe tbody tr th {\n",
       "        vertical-align: top;\n",
       "    }\n",
       "\n",
       "    .dataframe thead th {\n",
       "        text-align: right;\n",
       "    }\n",
       "</style>\n",
       "<table border=\"1\" class=\"dataframe\">\n",
       "  <thead>\n",
       "    <tr style=\"text-align: right;\">\n",
       "      <th></th>\n",
       "      <th>JOB TITLE</th>\n",
       "      <th>DEPARTMENT</th>\n",
       "    </tr>\n",
       "  </thead>\n",
       "  <tbody>\n",
       "    <tr>\n",
       "      <th>JOB TITLE</th>\n",
       "      <td>1.000000</td>\n",
       "      <td>0.254697</td>\n",
       "    </tr>\n",
       "    <tr>\n",
       "      <th>DEPARTMENT</th>\n",
       "      <td>0.254697</td>\n",
       "      <td>1.000000</td>\n",
       "    </tr>\n",
       "  </tbody>\n",
       "</table>\n",
       "</div>"
      ],
      "text/plain": [
       "            JOB TITLE  DEPARTMENT\n",
       "JOB TITLE    1.000000    0.254697\n",
       "DEPARTMENT   0.254697    1.000000"
      ]
     },
     "execution_count": 154,
     "metadata": {},
     "output_type": "execute_result"
    }
   ],
   "source": [
    "df.corr()"
   ]
  },
  {
   "cell_type": "code",
   "execution_count": 155,
   "metadata": {},
   "outputs": [],
   "source": [
    "#so i cant find any correlation"
   ]
  },
  {
   "cell_type": "code",
   "execution_count": 156,
   "metadata": {},
   "outputs": [
    {
     "data": {
      "text/plain": [
       "JOB TITLE                                 -0.869632\n",
       "DEPARTMENT                                -1.065106\n",
       "EMPLOYEE ANNUAL SALARY                    -0.571787\n",
       "ESTIMATED ANNUAL SALARY MINUS FURLOUGHS   -0.686903\n",
       "dtype: float64"
      ]
     },
     "execution_count": 156,
     "metadata": {},
     "output_type": "execute_result"
    }
   ],
   "source": [
    "df.skew()"
   ]
  },
  {
   "cell_type": "code",
   "execution_count": 157,
   "metadata": {},
   "outputs": [],
   "source": [
    "import numpy as np\n",
    "for col in df.columns:\n",
    "    if df.skew().loc[col]>0.55:\n",
    "        df[col]=np.log1p(df[col])"
   ]
  },
  {
   "cell_type": "code",
   "execution_count": 158,
   "metadata": {},
   "outputs": [],
   "source": [
    "#reached a dead end\n",
    "#skewness still present"
   ]
  },
  {
   "cell_type": "code",
   "execution_count": 159,
   "metadata": {},
   "outputs": [
    {
     "data": {
      "text/plain": [
       "JOB TITLE                                 -0.869632\n",
       "DEPARTMENT                                -1.065106\n",
       "EMPLOYEE ANNUAL SALARY                    -0.571787\n",
       "ESTIMATED ANNUAL SALARY MINUS FURLOUGHS   -0.686903\n",
       "dtype: float64"
      ]
     },
     "execution_count": 159,
     "metadata": {},
     "output_type": "execute_result"
    }
   ],
   "source": [
    "df.skew()"
   ]
  },
  {
   "cell_type": "code",
   "execution_count": 160,
   "metadata": {},
   "outputs": [
    {
     "name": "stdout",
     "output_type": "stream",
     "text": [
      "column name : JOB TITLE and skewness is :  -0.869632232678418\n",
      "column name : DEPARTMENT and skewness is :  -1.0651060650515187\n"
     ]
    }
   ],
   "source": [
    "import numpy as np\n",
    "for col in df.columns:\n",
    "    if df[col].dtype!=\"object\":\n",
    "        print(\"column name : \"+col+\" and skewness is : \",df[col].skew())\n",
    "        if df[col].skew() > 0.55:\n",
    "            df[col]=np.sqrt(df[col])"
   ]
  },
  {
   "cell_type": "code",
   "execution_count": 161,
   "metadata": {},
   "outputs": [
    {
     "data": {
      "text/plain": [
       "JOB TITLE                                 -0.869632\n",
       "DEPARTMENT                                -1.065106\n",
       "EMPLOYEE ANNUAL SALARY                    -0.571787\n",
       "ESTIMATED ANNUAL SALARY MINUS FURLOUGHS   -0.686903\n",
       "dtype: float64"
      ]
     },
     "execution_count": 161,
     "metadata": {},
     "output_type": "execute_result"
    }
   ],
   "source": [
    "df.skew()"
   ]
  },
  {
   "cell_type": "code",
   "execution_count": 162,
   "metadata": {},
   "outputs": [],
   "source": [
    "#not good\n",
    "#still skewness is present why?"
   ]
  },
  {
   "cell_type": "code",
   "execution_count": 163,
   "metadata": {},
   "outputs": [],
   "source": [
    "#i have tried one by one column too using sqrt and log to deal with skewness still no help"
   ]
  },
  {
   "cell_type": "code",
   "execution_count": null,
   "metadata": {},
   "outputs": [],
   "source": []
  },
  {
   "cell_type": "code",
   "execution_count": null,
   "metadata": {},
   "outputs": [],
   "source": []
  },
  {
   "cell_type": "code",
   "execution_count": 164,
   "metadata": {},
   "outputs": [
    {
     "data": {
      "text/html": [
       "<div>\n",
       "<style scoped>\n",
       "    .dataframe tbody tr th:only-of-type {\n",
       "        vertical-align: middle;\n",
       "    }\n",
       "\n",
       "    .dataframe tbody tr th {\n",
       "        vertical-align: top;\n",
       "    }\n",
       "\n",
       "    .dataframe thead th {\n",
       "        text-align: right;\n",
       "    }\n",
       "</style>\n",
       "<table border=\"1\" class=\"dataframe\">\n",
       "  <thead>\n",
       "    <tr style=\"text-align: right;\">\n",
       "      <th></th>\n",
       "      <th>JOB TITLE</th>\n",
       "      <th>DEPARTMENT</th>\n",
       "      <th>EMPLOYEE ANNUAL SALARY</th>\n",
       "      <th>ESTIMATED ANNUAL SALARY MINUS FURLOUGHS</th>\n",
       "    </tr>\n",
       "  </thead>\n",
       "  <tbody>\n",
       "    <tr>\n",
       "      <th>0</th>\n",
       "      <td>1115</td>\n",
       "      <td>38</td>\n",
       "      <td>81000</td>\n",
       "      <td>73862</td>\n",
       "    </tr>\n",
       "    <tr>\n",
       "      <th>1</th>\n",
       "      <td>783</td>\n",
       "      <td>30</td>\n",
       "      <td>74628</td>\n",
       "      <td>74628</td>\n",
       "    </tr>\n",
       "    <tr>\n",
       "      <th>2</th>\n",
       "      <td>193</td>\n",
       "      <td>19</td>\n",
       "      <td>77280</td>\n",
       "      <td>70174</td>\n",
       "    </tr>\n",
       "    <tr>\n",
       "      <th>3</th>\n",
       "      <td>240</td>\n",
       "      <td>38</td>\n",
       "      <td>96276</td>\n",
       "      <td>96276</td>\n",
       "    </tr>\n",
       "    <tr>\n",
       "      <th>4</th>\n",
       "      <td>451</td>\n",
       "      <td>38</td>\n",
       "      <td>84032</td>\n",
       "      <td>76627</td>\n",
       "    </tr>\n",
       "    <tr>\n",
       "      <th>...</th>\n",
       "      <td>...</td>\n",
       "      <td>...</td>\n",
       "      <td>...</td>\n",
       "      <td>...</td>\n",
       "    </tr>\n",
       "    <tr>\n",
       "      <th>34213</th>\n",
       "      <td>783</td>\n",
       "      <td>30</td>\n",
       "      <td>74628</td>\n",
       "      <td>74628</td>\n",
       "    </tr>\n",
       "    <tr>\n",
       "      <th>34214</th>\n",
       "      <td>284</td>\n",
       "      <td>38</td>\n",
       "      <td>73216</td>\n",
       "      <td>66764</td>\n",
       "    </tr>\n",
       "    <tr>\n",
       "      <th>34215</th>\n",
       "      <td>783</td>\n",
       "      <td>30</td>\n",
       "      <td>77238</td>\n",
       "      <td>77238</td>\n",
       "    </tr>\n",
       "    <tr>\n",
       "      <th>34216</th>\n",
       "      <td>673</td>\n",
       "      <td>18</td>\n",
       "      <td>101958</td>\n",
       "      <td>101958</td>\n",
       "    </tr>\n",
       "    <tr>\n",
       "      <th>34217</th>\n",
       "      <td>194</td>\n",
       "      <td>14</td>\n",
       "      <td>110352</td>\n",
       "      <td>100205</td>\n",
       "    </tr>\n",
       "  </tbody>\n",
       "</table>\n",
       "<p>34218 rows × 4 columns</p>\n",
       "</div>"
      ],
      "text/plain": [
       "       JOB TITLE  DEPARTMENT EMPLOYEE ANNUAL SALARY  \\\n",
       "0           1115          38                  81000   \n",
       "1            783          30                  74628   \n",
       "2            193          19                  77280   \n",
       "3            240          38                  96276   \n",
       "4            451          38                  84032   \n",
       "...          ...         ...                    ...   \n",
       "34213        783          30                  74628   \n",
       "34214        284          38                  73216   \n",
       "34215        783          30                  77238   \n",
       "34216        673          18                 101958   \n",
       "34217        194          14                 110352   \n",
       "\n",
       "      ESTIMATED ANNUAL SALARY MINUS FURLOUGHS  \n",
       "0                                       73862  \n",
       "1                                       74628  \n",
       "2                                       70174  \n",
       "3                                       96276  \n",
       "4                                       76627  \n",
       "...                                       ...  \n",
       "34213                                   74628  \n",
       "34214                                   66764  \n",
       "34215                                   77238  \n",
       "34216                                  101958  \n",
       "34217                                  100205  \n",
       "\n",
       "[34218 rows x 4 columns]"
      ]
     },
     "execution_count": 164,
     "metadata": {},
     "output_type": "execute_result"
    }
   ],
   "source": [
    "\n",
    "#dataset which machine can understand\n",
    "df"
   ]
  },
  {
   "cell_type": "markdown",
   "metadata": {},
   "source": [
    "# Machine learning"
   ]
  },
  {
   "cell_type": "code",
   "execution_count": 165,
   "metadata": {},
   "outputs": [],
   "source": [
    "#Lets seprate input and output\n",
    "x=df.drop(columns=[\"ESTIMATED ANNUAL SALARY MINUS FURLOUGHS\"])\n",
    "y=df[[\"ESTIMATED ANNUAL SALARY MINUS FURLOUGHS\"]]\n"
   ]
  },
  {
   "cell_type": "code",
   "execution_count": 166,
   "metadata": {},
   "outputs": [
    {
     "data": {
      "text/html": [
       "<div>\n",
       "<style scoped>\n",
       "    .dataframe tbody tr th:only-of-type {\n",
       "        vertical-align: middle;\n",
       "    }\n",
       "\n",
       "    .dataframe tbody tr th {\n",
       "        vertical-align: top;\n",
       "    }\n",
       "\n",
       "    .dataframe thead th {\n",
       "        text-align: right;\n",
       "    }\n",
       "</style>\n",
       "<table border=\"1\" class=\"dataframe\">\n",
       "  <thead>\n",
       "    <tr style=\"text-align: right;\">\n",
       "      <th></th>\n",
       "      <th>JOB TITLE</th>\n",
       "      <th>DEPARTMENT</th>\n",
       "      <th>EMPLOYEE ANNUAL SALARY</th>\n",
       "    </tr>\n",
       "  </thead>\n",
       "  <tbody>\n",
       "    <tr>\n",
       "      <th>0</th>\n",
       "      <td>1115</td>\n",
       "      <td>38</td>\n",
       "      <td>81000</td>\n",
       "    </tr>\n",
       "    <tr>\n",
       "      <th>1</th>\n",
       "      <td>783</td>\n",
       "      <td>30</td>\n",
       "      <td>74628</td>\n",
       "    </tr>\n",
       "    <tr>\n",
       "      <th>2</th>\n",
       "      <td>193</td>\n",
       "      <td>19</td>\n",
       "      <td>77280</td>\n",
       "    </tr>\n",
       "    <tr>\n",
       "      <th>3</th>\n",
       "      <td>240</td>\n",
       "      <td>38</td>\n",
       "      <td>96276</td>\n",
       "    </tr>\n",
       "    <tr>\n",
       "      <th>4</th>\n",
       "      <td>451</td>\n",
       "      <td>38</td>\n",
       "      <td>84032</td>\n",
       "    </tr>\n",
       "    <tr>\n",
       "      <th>...</th>\n",
       "      <td>...</td>\n",
       "      <td>...</td>\n",
       "      <td>...</td>\n",
       "    </tr>\n",
       "    <tr>\n",
       "      <th>34213</th>\n",
       "      <td>783</td>\n",
       "      <td>30</td>\n",
       "      <td>74628</td>\n",
       "    </tr>\n",
       "    <tr>\n",
       "      <th>34214</th>\n",
       "      <td>284</td>\n",
       "      <td>38</td>\n",
       "      <td>73216</td>\n",
       "    </tr>\n",
       "    <tr>\n",
       "      <th>34215</th>\n",
       "      <td>783</td>\n",
       "      <td>30</td>\n",
       "      <td>77238</td>\n",
       "    </tr>\n",
       "    <tr>\n",
       "      <th>34216</th>\n",
       "      <td>673</td>\n",
       "      <td>18</td>\n",
       "      <td>101958</td>\n",
       "    </tr>\n",
       "    <tr>\n",
       "      <th>34217</th>\n",
       "      <td>194</td>\n",
       "      <td>14</td>\n",
       "      <td>110352</td>\n",
       "    </tr>\n",
       "  </tbody>\n",
       "</table>\n",
       "<p>34218 rows × 3 columns</p>\n",
       "</div>"
      ],
      "text/plain": [
       "       JOB TITLE  DEPARTMENT EMPLOYEE ANNUAL SALARY\n",
       "0           1115          38                  81000\n",
       "1            783          30                  74628\n",
       "2            193          19                  77280\n",
       "3            240          38                  96276\n",
       "4            451          38                  84032\n",
       "...          ...         ...                    ...\n",
       "34213        783          30                  74628\n",
       "34214        284          38                  73216\n",
       "34215        783          30                  77238\n",
       "34216        673          18                 101958\n",
       "34217        194          14                 110352\n",
       "\n",
       "[34218 rows x 3 columns]"
      ]
     },
     "execution_count": 166,
     "metadata": {},
     "output_type": "execute_result"
    }
   ],
   "source": [
    "x"
   ]
  },
  {
   "cell_type": "code",
   "execution_count": 167,
   "metadata": {},
   "outputs": [
    {
     "data": {
      "text/html": [
       "<div>\n",
       "<style scoped>\n",
       "    .dataframe tbody tr th:only-of-type {\n",
       "        vertical-align: middle;\n",
       "    }\n",
       "\n",
       "    .dataframe tbody tr th {\n",
       "        vertical-align: top;\n",
       "    }\n",
       "\n",
       "    .dataframe thead th {\n",
       "        text-align: right;\n",
       "    }\n",
       "</style>\n",
       "<table border=\"1\" class=\"dataframe\">\n",
       "  <thead>\n",
       "    <tr style=\"text-align: right;\">\n",
       "      <th></th>\n",
       "      <th>ESTIMATED ANNUAL SALARY MINUS FURLOUGHS</th>\n",
       "    </tr>\n",
       "  </thead>\n",
       "  <tbody>\n",
       "    <tr>\n",
       "      <th>0</th>\n",
       "      <td>73862</td>\n",
       "    </tr>\n",
       "    <tr>\n",
       "      <th>1</th>\n",
       "      <td>74628</td>\n",
       "    </tr>\n",
       "    <tr>\n",
       "      <th>2</th>\n",
       "      <td>70174</td>\n",
       "    </tr>\n",
       "    <tr>\n",
       "      <th>3</th>\n",
       "      <td>96276</td>\n",
       "    </tr>\n",
       "    <tr>\n",
       "      <th>4</th>\n",
       "      <td>76627</td>\n",
       "    </tr>\n",
       "    <tr>\n",
       "      <th>...</th>\n",
       "      <td>...</td>\n",
       "    </tr>\n",
       "    <tr>\n",
       "      <th>34213</th>\n",
       "      <td>74628</td>\n",
       "    </tr>\n",
       "    <tr>\n",
       "      <th>34214</th>\n",
       "      <td>66764</td>\n",
       "    </tr>\n",
       "    <tr>\n",
       "      <th>34215</th>\n",
       "      <td>77238</td>\n",
       "    </tr>\n",
       "    <tr>\n",
       "      <th>34216</th>\n",
       "      <td>101958</td>\n",
       "    </tr>\n",
       "    <tr>\n",
       "      <th>34217</th>\n",
       "      <td>100205</td>\n",
       "    </tr>\n",
       "  </tbody>\n",
       "</table>\n",
       "<p>34218 rows × 1 columns</p>\n",
       "</div>"
      ],
      "text/plain": [
       "      ESTIMATED ANNUAL SALARY MINUS FURLOUGHS\n",
       "0                                       73862\n",
       "1                                       74628\n",
       "2                                       70174\n",
       "3                                       96276\n",
       "4                                       76627\n",
       "...                                       ...\n",
       "34213                                   74628\n",
       "34214                                   66764\n",
       "34215                                   77238\n",
       "34216                                  101958\n",
       "34217                                  100205\n",
       "\n",
       "[34218 rows x 1 columns]"
      ]
     },
     "execution_count": 167,
     "metadata": {},
     "output_type": "execute_result"
    }
   ],
   "source": [
    "y"
   ]
  },
  {
   "cell_type": "code",
   "execution_count": 168,
   "metadata": {},
   "outputs": [],
   "source": [
    "#Lets use decision tree regressor\n",
    "from sklearn.metrics import mean_absolute_error\n",
    "from sklearn.metrics import mean_squared_error\n",
    "from sklearn.metrics import r2_score\n",
    "from sklearn.model_selection import train_test_split\n",
    "from sklearn.linear_model import LinearRegression\n",
    "def maxr2_score(regr,x,y):\n",
    "    max_r_score=0\n",
    "    for r_state in range(42,100):\n",
    "        x_train, x_test, y_train, y_test = train_test_split(x, y,random_state = r_state,test_size=0.20)\n",
    "        regr.fit(x_train,y_train)\n",
    "        y_pred = regr.predict(x_test)\n",
    "        r2_scr=r2_score(y_test,y_pred)\n",
    "        print(\"r2 score corresponding to \",r_state,\" is \",r2_scr)\n",
    "        if r2_scr>max_r_score:\n",
    "            max_r_score=r2_scr\n",
    "            final_r_state=r_state\n",
    "    print(\"max r2 score corresponding to \",final_r_state,\" is \",max_r_score)\n",
    "    return final_r_state"
   ]
  },
  {
   "cell_type": "code",
   "execution_count": 169,
   "metadata": {},
   "outputs": [
    {
     "name": "stdout",
     "output_type": "stream",
     "text": [
      "r2 score corresponding to  42  is  0.9830287208912687\n",
      "r2 score corresponding to  43  is  0.9814374516309454\n",
      "r2 score corresponding to  44  is  0.9810913991694401\n",
      "r2 score corresponding to  45  is  0.9820406607461876\n",
      "r2 score corresponding to  46  is  0.9818437531137457\n",
      "r2 score corresponding to  47  is  0.9809201906348897\n",
      "r2 score corresponding to  48  is  0.9820889642276469\n",
      "r2 score corresponding to  49  is  0.981998422933547\n",
      "r2 score corresponding to  50  is  0.9819869365515018\n",
      "r2 score corresponding to  51  is  0.9813501964234902\n",
      "r2 score corresponding to  52  is  0.9818084901167744\n",
      "r2 score corresponding to  53  is  0.9814565386846773\n",
      "r2 score corresponding to  54  is  0.9816885741674228\n",
      "r2 score corresponding to  55  is  0.9814974768269007\n",
      "r2 score corresponding to  56  is  0.9809860175389662\n",
      "r2 score corresponding to  57  is  0.981409482294457\n",
      "r2 score corresponding to  58  is  0.9820653683856133\n",
      "r2 score corresponding to  59  is  0.9824247300246266\n",
      "r2 score corresponding to  60  is  0.9811744422165918\n",
      "r2 score corresponding to  61  is  0.9820176274667232\n",
      "r2 score corresponding to  62  is  0.9816502731538491\n",
      "r2 score corresponding to  63  is  0.9821506871533082\n",
      "r2 score corresponding to  64  is  0.9815146466456559\n",
      "r2 score corresponding to  65  is  0.9818433314127863\n",
      "r2 score corresponding to  66  is  0.9820162089558477\n",
      "r2 score corresponding to  67  is  0.9819527486580718\n",
      "r2 score corresponding to  68  is  0.982080907470482\n",
      "r2 score corresponding to  69  is  0.9823300737265703\n",
      "r2 score corresponding to  70  is  0.9817361697026562\n",
      "r2 score corresponding to  71  is  0.9811462002618683\n",
      "r2 score corresponding to  72  is  0.981129495967829\n",
      "r2 score corresponding to  73  is  0.9809789088875605\n",
      "r2 score corresponding to  74  is  0.9817847496461635\n",
      "r2 score corresponding to  75  is  0.9817087043495396\n",
      "r2 score corresponding to  76  is  0.9815988814047288\n",
      "r2 score corresponding to  77  is  0.9814368724502569\n",
      "r2 score corresponding to  78  is  0.9804052100349397\n",
      "r2 score corresponding to  79  is  0.9805326632296691\n",
      "r2 score corresponding to  80  is  0.9822443447211235\n",
      "r2 score corresponding to  81  is  0.9816277976997692\n",
      "r2 score corresponding to  82  is  0.9808956992414632\n",
      "r2 score corresponding to  83  is  0.9805396379641682\n",
      "r2 score corresponding to  84  is  0.982230756134633\n",
      "r2 score corresponding to  85  is  0.9813642133615655\n",
      "r2 score corresponding to  86  is  0.9814711428041313\n",
      "r2 score corresponding to  87  is  0.9817434503792059\n",
      "r2 score corresponding to  88  is  0.9825346046654359\n",
      "r2 score corresponding to  89  is  0.9808992071385417\n",
      "r2 score corresponding to  90  is  0.9808494826773206\n",
      "r2 score corresponding to  91  is  0.9817851076012729\n",
      "r2 score corresponding to  92  is  0.9815065570110556\n",
      "r2 score corresponding to  93  is  0.9813238038710934\n",
      "r2 score corresponding to  94  is  0.9812651152502331\n",
      "r2 score corresponding to  95  is  0.981205234037707\n",
      "r2 score corresponding to  96  is  0.9820493851734918\n",
      "r2 score corresponding to  97  is  0.9813051033649607\n",
      "r2 score corresponding to  98  is  0.981367592543736\n",
      "r2 score corresponding to  99  is  0.9814516940386927\n",
      "max r2 score corresponding to  42  is  0.9830287208912687\n"
     ]
    }
   ],
   "source": [
    "lnr=LinearRegression()\n",
    "final_r_state=maxr2_score(lnr,x,y)"
   ]
  },
  {
   "cell_type": "code",
   "execution_count": 170,
   "metadata": {},
   "outputs": [
    {
     "name": "stdout",
     "output_type": "stream",
     "text": [
      "r2 score corresponding to  42  is  0.9989929357372891\n",
      "r2 score corresponding to  43  is  0.9989404777035886\n",
      "r2 score corresponding to  44  is  0.998660033408792\n",
      "r2 score corresponding to  45  is  0.9988673029841392\n",
      "r2 score corresponding to  46  is  0.9985415608916136\n",
      "r2 score corresponding to  47  is  0.998709377140152\n",
      "r2 score corresponding to  48  is  0.9988132196189904\n",
      "r2 score corresponding to  49  is  0.9988705928928397\n",
      "r2 score corresponding to  50  is  0.9982719152088992\n",
      "r2 score corresponding to  51  is  0.998382287837567\n",
      "r2 score corresponding to  52  is  0.9984217196175054\n",
      "r2 score corresponding to  53  is  0.9987922163042491\n",
      "r2 score corresponding to  54  is  0.9990172007145903\n",
      "r2 score corresponding to  55  is  0.9988715504573773\n",
      "r2 score corresponding to  56  is  0.9988505872056118\n",
      "r2 score corresponding to  57  is  0.9984871890191858\n",
      "r2 score corresponding to  58  is  0.9987630289035986\n",
      "r2 score corresponding to  59  is  0.9984031663484343\n",
      "r2 score corresponding to  60  is  0.9988579688666427\n",
      "r2 score corresponding to  61  is  0.9986779998399288\n",
      "r2 score corresponding to  62  is  0.9991131996233572\n",
      "r2 score corresponding to  63  is  0.99900150507828\n",
      "r2 score corresponding to  64  is  0.998828918804824\n",
      "r2 score corresponding to  65  is  0.9984966992798603\n",
      "r2 score corresponding to  66  is  0.999014202706449\n",
      "r2 score corresponding to  67  is  0.9988882820916499\n",
      "r2 score corresponding to  68  is  0.9985628798614324\n",
      "r2 score corresponding to  69  is  0.9989699055613677\n",
      "r2 score corresponding to  70  is  0.9988497037319611\n",
      "r2 score corresponding to  71  is  0.9989697838933294\n",
      "r2 score corresponding to  72  is  0.9991445693164097\n",
      "r2 score corresponding to  73  is  0.9984050838619943\n",
      "r2 score corresponding to  74  is  0.9985016368938067\n",
      "r2 score corresponding to  75  is  0.9990354985082923\n",
      "r2 score corresponding to  76  is  0.9989835143623281\n",
      "r2 score corresponding to  77  is  0.9990048354664752\n",
      "r2 score corresponding to  78  is  0.9987329440395523\n",
      "r2 score corresponding to  79  is  0.9988116014682878\n",
      "r2 score corresponding to  80  is  0.9988217213591856\n",
      "r2 score corresponding to  81  is  0.9988063682111386\n",
      "r2 score corresponding to  82  is  0.9988777687110284\n",
      "r2 score corresponding to  83  is  0.9986248030357849\n",
      "r2 score corresponding to  84  is  0.9989549876469046\n",
      "r2 score corresponding to  85  is  0.9982942049153051\n",
      "r2 score corresponding to  86  is  0.9988894148838963\n",
      "r2 score corresponding to  87  is  0.9987327675650816\n",
      "r2 score corresponding to  88  is  0.9987729057207656\n",
      "r2 score corresponding to  89  is  0.9988565900248781\n",
      "r2 score corresponding to  90  is  0.9988506190826056\n",
      "r2 score corresponding to  91  is  0.9982519450631586\n",
      "r2 score corresponding to  92  is  0.9989638977804529\n",
      "r2 score corresponding to  93  is  0.99851106274372\n",
      "r2 score corresponding to  94  is  0.9991208542060193\n",
      "r2 score corresponding to  95  is  0.998702183359967\n",
      "r2 score corresponding to  96  is  0.9990691885571106\n",
      "r2 score corresponding to  97  is  0.9988144307248722\n",
      "r2 score corresponding to  98  is  0.999031032704753\n",
      "r2 score corresponding to  99  is  0.9988122564332789\n",
      "max r2 score corresponding to  72  is  0.9991445693164097\n"
     ]
    }
   ],
   "source": [
    "from sklearn.tree import DecisionTreeRegressor\n",
    "regr=DecisionTreeRegressor()\n",
    "final_r_state=maxr2_score(regr,x,y)"
   ]
  },
  {
   "cell_type": "code",
   "execution_count": 171,
   "metadata": {},
   "outputs": [
    {
     "data": {
      "text/plain": [
       "0.9815496166169295"
      ]
     },
     "execution_count": 171,
     "metadata": {},
     "output_type": "execute_result"
    }
   ],
   "source": [
    "from sklearn.model_selection import cross_val_score\n",
    "cross_val_score(sklearn.linear_model.LinearRegression(),x,y,cv=10,scoring=\"r2\").mean()"
   ]
  },
  {
   "cell_type": "code",
   "execution_count": 172,
   "metadata": {},
   "outputs": [
    {
     "data": {
      "text/plain": [
       "0.9989326084756804"
      ]
     },
     "execution_count": 172,
     "metadata": {},
     "output_type": "execute_result"
    }
   ],
   "source": [
    "from sklearn.model_selection import cross_val_score\n",
    "cross_val_score(sklearn.tree.DecisionTreeRegressor(),x,y,cv=10,scoring=\"r2\").mean()"
   ]
  },
  {
   "cell_type": "code",
   "execution_count": null,
   "metadata": {},
   "outputs": [],
   "source": []
  },
  {
   "cell_type": "code",
   "execution_count": 173,
   "metadata": {},
   "outputs": [
    {
     "data": {
      "text/plain": [
       "['salary.pkl']"
      ]
     },
     "execution_count": 173,
     "metadata": {},
     "output_type": "execute_result"
    }
   ],
   "source": [
    "\n",
    "#Lets save above model\n",
    "from sklearn.externals import joblib \n",
    "  \n",
    "# Save the model as a pickle in a file \n",
    "joblib.dump(regr, 'salary.pkl')"
   ]
  },
  {
   "cell_type": "code",
   "execution_count": null,
   "metadata": {},
   "outputs": [],
   "source": []
  },
  {
   "cell_type": "code",
   "execution_count": null,
   "metadata": {},
   "outputs": [],
   "source": []
  },
  {
   "cell_type": "code",
   "execution_count": null,
   "metadata": {},
   "outputs": [],
   "source": []
  },
  {
   "cell_type": "code",
   "execution_count": null,
   "metadata": {},
   "outputs": [],
   "source": []
  },
  {
   "cell_type": "code",
   "execution_count": null,
   "metadata": {},
   "outputs": [],
   "source": []
  },
  {
   "cell_type": "code",
   "execution_count": null,
   "metadata": {},
   "outputs": [],
   "source": []
  },
  {
   "cell_type": "code",
   "execution_count": null,
   "metadata": {},
   "outputs": [],
   "source": []
  },
  {
   "cell_type": "code",
   "execution_count": null,
   "metadata": {},
   "outputs": [],
   "source": []
  },
  {
   "cell_type": "code",
   "execution_count": null,
   "metadata": {},
   "outputs": [],
   "source": []
  },
  {
   "cell_type": "code",
   "execution_count": null,
   "metadata": {},
   "outputs": [],
   "source": []
  },
  {
   "cell_type": "code",
   "execution_count": null,
   "metadata": {},
   "outputs": [],
   "source": []
  }
 ],
 "metadata": {
  "kernelspec": {
   "display_name": "Python 3",
   "language": "python",
   "name": "python3"
  },
  "language_info": {
   "codemirror_mode": {
    "name": "ipython",
    "version": 3
   },
   "file_extension": ".py",
   "mimetype": "text/x-python",
   "name": "python",
   "nbconvert_exporter": "python",
   "pygments_lexer": "ipython3",
   "version": "3.7.6"
  }
 },
 "nbformat": 4,
 "nbformat_minor": 4
}
